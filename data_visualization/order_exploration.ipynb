{
 "cells": [
  {
   "cell_type": "code",
   "execution_count": 1,
   "metadata": {},
   "outputs": [],
   "source": [
    "import pandas as pd"
   ]
  },
  {
   "cell_type": "code",
   "execution_count": 13,
   "metadata": {},
   "outputs": [],
   "source": [
    "ORDER_FILE_PATH = \"/Users/anon.ong/Documents/02_CP_4_year/01_Capstone/code/simulator/log/20230219_111128/order.csv\"\n",
    "# /Users/anon.ong/Documents/02_CP_4_year/01_Capstone/code/simulator/log/20230219_1111"
   ]
  },
  {
   "cell_type": "code",
   "execution_count": 14,
   "metadata": {},
   "outputs": [],
   "source": [
    "order_df = pd.read_csv(ORDER_FILE_PATH)"
   ]
  },
  {
   "cell_type": "code",
   "execution_count": 15,
   "metadata": {},
   "outputs": [
    {
     "data": {
      "text/html": [
       "<div>\n",
       "<style scoped>\n",
       "    .dataframe tbody tr th:only-of-type {\n",
       "        vertical-align: middle;\n",
       "    }\n",
       "\n",
       "    .dataframe tbody tr th {\n",
       "        vertical-align: top;\n",
       "    }\n",
       "\n",
       "    .dataframe thead th {\n",
       "        text-align: right;\n",
       "    }\n",
       "</style>\n",
       "<table border=\"1\" class=\"dataframe\">\n",
       "  <thead>\n",
       "    <tr style=\"text-align: right;\">\n",
       "      <th></th>\n",
       "      <th>id</th>\n",
       "      <th>restaurant_id</th>\n",
       "      <th>restaurant_location</th>\n",
       "      <th>customer_location</th>\n",
       "      <th>created_time</th>\n",
       "      <th>assigned_time</th>\n",
       "      <th>meal_finished_time</th>\n",
       "      <th>picked_up_time</th>\n",
       "      <th>finished_time</th>\n",
       "      <th>rider_id</th>\n",
       "    </tr>\n",
       "  </thead>\n",
       "  <tbody>\n",
       "    <tr>\n",
       "      <th>0</th>\n",
       "      <td>0</td>\n",
       "      <td>158</td>\n",
       "      <td>POINT (100.5645341 13.8270341)</td>\n",
       "      <td>POINT (100.60880118755551 13.857951986013582)</td>\n",
       "      <td>26</td>\n",
       "      <td>26.0</td>\n",
       "      <td>1037.0</td>\n",
       "      <td>1861.0</td>\n",
       "      <td>4885.0</td>\n",
       "      <td>0.0</td>\n",
       "    </tr>\n",
       "    <tr>\n",
       "      <th>1</th>\n",
       "      <td>1</td>\n",
       "      <td>186</td>\n",
       "      <td>POINT (100.5620061 13.8242611)</td>\n",
       "      <td>POINT (100.58317685517815 13.842826278717466)</td>\n",
       "      <td>94</td>\n",
       "      <td>94.0</td>\n",
       "      <td>1010.0</td>\n",
       "      <td>8252.0</td>\n",
       "      <td>NaN</td>\n",
       "      <td>0.0</td>\n",
       "    </tr>\n",
       "    <tr>\n",
       "      <th>2</th>\n",
       "      <td>2</td>\n",
       "      <td>203</td>\n",
       "      <td>POINT (100.5483621 13.8401929)</td>\n",
       "      <td>POINT (100.54011830906367 13.822981752980859)</td>\n",
       "      <td>228</td>\n",
       "      <td>228.0</td>\n",
       "      <td>1371.0</td>\n",
       "      <td>NaN</td>\n",
       "      <td>NaN</td>\n",
       "      <td>0.0</td>\n",
       "    </tr>\n",
       "    <tr>\n",
       "      <th>3</th>\n",
       "      <td>3</td>\n",
       "      <td>127</td>\n",
       "      <td>POINT (100.5358786 13.8273022)</td>\n",
       "      <td>POINT (100.56108086113446 13.847781620835882)</td>\n",
       "      <td>618</td>\n",
       "      <td>618.0</td>\n",
       "      <td>1678.0</td>\n",
       "      <td>1680.0</td>\n",
       "      <td>3667.0</td>\n",
       "      <td>1.0</td>\n",
       "    </tr>\n",
       "    <tr>\n",
       "      <th>4</th>\n",
       "      <td>4</td>\n",
       "      <td>41</td>\n",
       "      <td>POINT (100.538436 13.838594)</td>\n",
       "      <td>POINT (100.60911373181438 13.842537367161736)</td>\n",
       "      <td>738</td>\n",
       "      <td>738.0</td>\n",
       "      <td>2745.0</td>\n",
       "      <td>5638.0</td>\n",
       "      <td>9961.0</td>\n",
       "      <td>1.0</td>\n",
       "    </tr>\n",
       "    <tr>\n",
       "      <th>...</th>\n",
       "      <td>...</td>\n",
       "      <td>...</td>\n",
       "      <td>...</td>\n",
       "      <td>...</td>\n",
       "      <td>...</td>\n",
       "      <td>...</td>\n",
       "      <td>...</td>\n",
       "      <td>...</td>\n",
       "      <td>...</td>\n",
       "      <td>...</td>\n",
       "    </tr>\n",
       "    <tr>\n",
       "      <th>100</th>\n",
       "      <td>100</td>\n",
       "      <td>32</td>\n",
       "      <td>POINT (100.5349546 13.8294607)</td>\n",
       "      <td>POINT (100.57625844865383 13.844883788730725)</td>\n",
       "      <td>9710</td>\n",
       "      <td>NaN</td>\n",
       "      <td>NaN</td>\n",
       "      <td>NaN</td>\n",
       "      <td>NaN</td>\n",
       "      <td>NaN</td>\n",
       "    </tr>\n",
       "    <tr>\n",
       "      <th>101</th>\n",
       "      <td>101</td>\n",
       "      <td>170</td>\n",
       "      <td>POINT (100.5630145 13.8203651)</td>\n",
       "      <td>POINT (100.56799365674388 13.859066718615592)</td>\n",
       "      <td>9745</td>\n",
       "      <td>NaN</td>\n",
       "      <td>NaN</td>\n",
       "      <td>NaN</td>\n",
       "      <td>NaN</td>\n",
       "      <td>NaN</td>\n",
       "    </tr>\n",
       "    <tr>\n",
       "      <th>102</th>\n",
       "      <td>102</td>\n",
       "      <td>199</td>\n",
       "      <td>POINT (100.5553484 13.82572)</td>\n",
       "      <td>POINT (100.54541392867472 13.826582287838955)</td>\n",
       "      <td>9874</td>\n",
       "      <td>NaN</td>\n",
       "      <td>NaN</td>\n",
       "      <td>NaN</td>\n",
       "      <td>NaN</td>\n",
       "      <td>NaN</td>\n",
       "    </tr>\n",
       "    <tr>\n",
       "      <th>103</th>\n",
       "      <td>103</td>\n",
       "      <td>159</td>\n",
       "      <td>POINT (100.5645341 13.8270341)</td>\n",
       "      <td>POINT (100.59141857488703 13.851163966224357)</td>\n",
       "      <td>9879</td>\n",
       "      <td>NaN</td>\n",
       "      <td>NaN</td>\n",
       "      <td>NaN</td>\n",
       "      <td>NaN</td>\n",
       "      <td>NaN</td>\n",
       "    </tr>\n",
       "    <tr>\n",
       "      <th>104</th>\n",
       "      <td>104</td>\n",
       "      <td>127</td>\n",
       "      <td>POINT (100.5358786 13.8273022)</td>\n",
       "      <td>POINT (100.56718818717998 13.83682492461794)</td>\n",
       "      <td>9957</td>\n",
       "      <td>NaN</td>\n",
       "      <td>NaN</td>\n",
       "      <td>NaN</td>\n",
       "      <td>NaN</td>\n",
       "      <td>NaN</td>\n",
       "    </tr>\n",
       "  </tbody>\n",
       "</table>\n",
       "<p>105 rows × 10 columns</p>\n",
       "</div>"
      ],
      "text/plain": [
       "      id  restaurant_id             restaurant_location  \\\n",
       "0      0            158  POINT (100.5645341 13.8270341)   \n",
       "1      1            186  POINT (100.5620061 13.8242611)   \n",
       "2      2            203  POINT (100.5483621 13.8401929)   \n",
       "3      3            127  POINT (100.5358786 13.8273022)   \n",
       "4      4             41    POINT (100.538436 13.838594)   \n",
       "..   ...            ...                             ...   \n",
       "100  100             32  POINT (100.5349546 13.8294607)   \n",
       "101  101            170  POINT (100.5630145 13.8203651)   \n",
       "102  102            199    POINT (100.5553484 13.82572)   \n",
       "103  103            159  POINT (100.5645341 13.8270341)   \n",
       "104  104            127  POINT (100.5358786 13.8273022)   \n",
       "\n",
       "                                 customer_location  created_time  \\\n",
       "0    POINT (100.60880118755551 13.857951986013582)            26   \n",
       "1    POINT (100.58317685517815 13.842826278717466)            94   \n",
       "2    POINT (100.54011830906367 13.822981752980859)           228   \n",
       "3    POINT (100.56108086113446 13.847781620835882)           618   \n",
       "4    POINT (100.60911373181438 13.842537367161736)           738   \n",
       "..                                             ...           ...   \n",
       "100  POINT (100.57625844865383 13.844883788730725)          9710   \n",
       "101  POINT (100.56799365674388 13.859066718615592)          9745   \n",
       "102  POINT (100.54541392867472 13.826582287838955)          9874   \n",
       "103  POINT (100.59141857488703 13.851163966224357)          9879   \n",
       "104   POINT (100.56718818717998 13.83682492461794)          9957   \n",
       "\n",
       "     assigned_time  meal_finished_time  picked_up_time  finished_time  \\\n",
       "0             26.0              1037.0          1861.0         4885.0   \n",
       "1             94.0              1010.0          8252.0            NaN   \n",
       "2            228.0              1371.0             NaN            NaN   \n",
       "3            618.0              1678.0          1680.0         3667.0   \n",
       "4            738.0              2745.0          5638.0         9961.0   \n",
       "..             ...                 ...             ...            ...   \n",
       "100            NaN                 NaN             NaN            NaN   \n",
       "101            NaN                 NaN             NaN            NaN   \n",
       "102            NaN                 NaN             NaN            NaN   \n",
       "103            NaN                 NaN             NaN            NaN   \n",
       "104            NaN                 NaN             NaN            NaN   \n",
       "\n",
       "     rider_id  \n",
       "0         0.0  \n",
       "1         0.0  \n",
       "2         0.0  \n",
       "3         1.0  \n",
       "4         1.0  \n",
       "..        ...  \n",
       "100       NaN  \n",
       "101       NaN  \n",
       "102       NaN  \n",
       "103       NaN  \n",
       "104       NaN  \n",
       "\n",
       "[105 rows x 10 columns]"
      ]
     },
     "execution_count": 15,
     "metadata": {},
     "output_type": "execute_result"
    }
   ],
   "source": [
    "order_df"
   ]
  },
  {
   "cell_type": "code",
   "execution_count": 19,
   "metadata": {},
   "outputs": [
    {
     "data": {
      "text/plain": [
       "39"
      ]
     },
     "execution_count": 19,
     "metadata": {},
     "output_type": "execute_result"
    }
   ],
   "source": [
    "len(order_df['assigned_time'].dropna())"
   ]
  },
  {
   "cell_type": "code",
   "execution_count": 20,
   "metadata": {},
   "outputs": [
    {
     "data": {
      "text/plain": [
       "39"
      ]
     },
     "execution_count": 20,
     "metadata": {},
     "output_type": "execute_result"
    }
   ],
   "source": [
    "len(order_df['assigned_time'].unique())"
   ]
  },
  {
   "cell_type": "code",
   "execution_count": 16,
   "metadata": {},
   "outputs": [
    {
     "data": {
      "text/plain": [
       "array([ 0.,  1.,  2.,  3.,  4.,  5.,  6.,  7.,  8.,  9., nan])"
      ]
     },
     "execution_count": 16,
     "metadata": {},
     "output_type": "execute_result"
    }
   ],
   "source": [
    "order_df['rider_id'].unique()"
   ]
  },
  {
   "cell_type": "code",
   "execution_count": null,
   "metadata": {},
   "outputs": [],
   "source": []
  }
 ],
 "metadata": {
  "kernelspec": {
   "display_name": "multi_order_env",
   "language": "python",
   "name": "python3"
  },
  "language_info": {
   "codemirror_mode": {
    "name": "ipython",
    "version": 3
   },
   "file_extension": ".py",
   "mimetype": "text/x-python",
   "name": "python",
   "nbconvert_exporter": "python",
   "pygments_lexer": "ipython3",
   "version": "3.10.9"
  },
  "orig_nbformat": 4,
  "vscode": {
   "interpreter": {
    "hash": "20c170d91e5df5d104321299b03c5307a7c9bdb665e1565411f30bcc266ed4df"
   }
  }
 },
 "nbformat": 4,
 "nbformat_minor": 2
}
