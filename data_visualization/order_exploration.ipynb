{
 "cells": [
  {
   "cell_type": "code",
   "execution_count": 1,
   "metadata": {},
   "outputs": [],
   "source": [
    "import pandas as pd"
   ]
  },
  {
   "cell_type": "code",
   "execution_count": 31,
   "metadata": {},
   "outputs": [],
   "source": [
    "ORDER_FILE_PATH = \"/Users/anon.ong/Documents/02_CP_4_year/01_Capstone/code/simulator/log/20230219_112049/order.csv\"\n",
    "# /Users/anon.ong/Documents/02_CP_4_year/01_Capstone/code/simulator/log/20230219_1111"
   ]
  },
  {
   "cell_type": "code",
   "execution_count": 32,
   "metadata": {},
   "outputs": [],
   "source": [
    "order_df = pd.read_csv(ORDER_FILE_PATH)"
   ]
  },
  {
   "cell_type": "code",
   "execution_count": 33,
   "metadata": {},
   "outputs": [
    {
     "data": {
      "text/html": [
       "<div>\n",
       "<style scoped>\n",
       "    .dataframe tbody tr th:only-of-type {\n",
       "        vertical-align: middle;\n",
       "    }\n",
       "\n",
       "    .dataframe tbody tr th {\n",
       "        vertical-align: top;\n",
       "    }\n",
       "\n",
       "    .dataframe thead th {\n",
       "        text-align: right;\n",
       "    }\n",
       "</style>\n",
       "<table border=\"1\" class=\"dataframe\">\n",
       "  <thead>\n",
       "    <tr style=\"text-align: right;\">\n",
       "      <th></th>\n",
       "      <th>id</th>\n",
       "      <th>restaurant_id</th>\n",
       "      <th>restaurant_location</th>\n",
       "      <th>customer_location</th>\n",
       "      <th>created_time</th>\n",
       "      <th>assigned_time</th>\n",
       "      <th>meal_finished_time</th>\n",
       "      <th>picked_up_time</th>\n",
       "      <th>finished_time</th>\n",
       "      <th>rider_id</th>\n",
       "    </tr>\n",
       "  </thead>\n",
       "  <tbody>\n",
       "    <tr>\n",
       "      <th>0</th>\n",
       "      <td>0</td>\n",
       "      <td>75</td>\n",
       "      <td>POINT (100.5555603 13.821011)</td>\n",
       "      <td>POINT (100.60880118755551 13.857951986013582)</td>\n",
       "      <td>27</td>\n",
       "      <td>27.0</td>\n",
       "      <td>976.0</td>\n",
       "      <td>978.0</td>\n",
       "      <td>2558.0</td>\n",
       "      <td>0.0</td>\n",
       "    </tr>\n",
       "    <tr>\n",
       "      <th>1</th>\n",
       "      <td>1</td>\n",
       "      <td>4</td>\n",
       "      <td>POINT (100.5338511 13.8411814)</td>\n",
       "      <td>POINT (100.58317685517815 13.842826278717466)</td>\n",
       "      <td>96</td>\n",
       "      <td>96.0</td>\n",
       "      <td>1695.0</td>\n",
       "      <td>4477.0</td>\n",
       "      <td>5986.0</td>\n",
       "      <td>0.0</td>\n",
       "    </tr>\n",
       "    <tr>\n",
       "      <th>2</th>\n",
       "      <td>2</td>\n",
       "      <td>144</td>\n",
       "      <td>POINT (100.5764408 13.8222855)</td>\n",
       "      <td>POINT (100.54011830906367 13.822981752980859)</td>\n",
       "      <td>232</td>\n",
       "      <td>232.0</td>\n",
       "      <td>1324.0</td>\n",
       "      <td>6758.0</td>\n",
       "      <td>7942.0</td>\n",
       "      <td>0.0</td>\n",
       "    </tr>\n",
       "    <tr>\n",
       "      <th>3</th>\n",
       "      <td>3</td>\n",
       "      <td>174</td>\n",
       "      <td>POINT (100.566485 13.8239427)</td>\n",
       "      <td>POINT (100.56108086113446 13.847781620835882)</td>\n",
       "      <td>628</td>\n",
       "      <td>628.0</td>\n",
       "      <td>1501.0</td>\n",
       "      <td>1653.0</td>\n",
       "      <td>2327.0</td>\n",
       "      <td>1.0</td>\n",
       "    </tr>\n",
       "    <tr>\n",
       "      <th>4</th>\n",
       "      <td>4</td>\n",
       "      <td>106</td>\n",
       "      <td>POINT (100.5498324 13.8209576)</td>\n",
       "      <td>POINT (100.60911373181438 13.842537367161736)</td>\n",
       "      <td>750</td>\n",
       "      <td>750.0</td>\n",
       "      <td>2496.0</td>\n",
       "      <td>3672.0</td>\n",
       "      <td>5109.0</td>\n",
       "      <td>1.0</td>\n",
       "    </tr>\n",
       "    <tr>\n",
       "      <th>...</th>\n",
       "      <td>...</td>\n",
       "      <td>...</td>\n",
       "      <td>...</td>\n",
       "      <td>...</td>\n",
       "      <td>...</td>\n",
       "      <td>...</td>\n",
       "      <td>...</td>\n",
       "      <td>...</td>\n",
       "      <td>...</td>\n",
       "      <td>...</td>\n",
       "    </tr>\n",
       "    <tr>\n",
       "      <th>466</th>\n",
       "      <td>466</td>\n",
       "      <td>110</td>\n",
       "      <td>POINT (100.5633957 13.8246205)</td>\n",
       "      <td>POINT (100.55504841473123 13.811106413359981)</td>\n",
       "      <td>53359</td>\n",
       "      <td>NaN</td>\n",
       "      <td>NaN</td>\n",
       "      <td>NaN</td>\n",
       "      <td>NaN</td>\n",
       "      <td>NaN</td>\n",
       "    </tr>\n",
       "    <tr>\n",
       "      <th>467</th>\n",
       "      <td>467</td>\n",
       "      <td>107</td>\n",
       "      <td>POINT (100.5645341 13.8270341)</td>\n",
       "      <td>POINT (100.61129796452914 13.855752508088958)</td>\n",
       "      <td>53604</td>\n",
       "      <td>NaN</td>\n",
       "      <td>NaN</td>\n",
       "      <td>NaN</td>\n",
       "      <td>NaN</td>\n",
       "      <td>NaN</td>\n",
       "    </tr>\n",
       "    <tr>\n",
       "      <th>468</th>\n",
       "      <td>468</td>\n",
       "      <td>90</td>\n",
       "      <td>POINT (100.5633957 13.8246205)</td>\n",
       "      <td>POINT (100.57538264516558 13.809767012238924)</td>\n",
       "      <td>53721</td>\n",
       "      <td>NaN</td>\n",
       "      <td>NaN</td>\n",
       "      <td>NaN</td>\n",
       "      <td>NaN</td>\n",
       "      <td>NaN</td>\n",
       "    </tr>\n",
       "    <tr>\n",
       "      <th>469</th>\n",
       "      <td>469</td>\n",
       "      <td>115</td>\n",
       "      <td>POINT (100.5693427 13.8212803)</td>\n",
       "      <td>POINT (100.59909699809485 13.807469931526384)</td>\n",
       "      <td>53890</td>\n",
       "      <td>NaN</td>\n",
       "      <td>NaN</td>\n",
       "      <td>NaN</td>\n",
       "      <td>NaN</td>\n",
       "      <td>NaN</td>\n",
       "    </tr>\n",
       "    <tr>\n",
       "      <th>470</th>\n",
       "      <td>470</td>\n",
       "      <td>104</td>\n",
       "      <td>POINT (100.5633957 13.8246205)</td>\n",
       "      <td>POINT (100.57574072011273 13.852250184298246)</td>\n",
       "      <td>53891</td>\n",
       "      <td>NaN</td>\n",
       "      <td>NaN</td>\n",
       "      <td>NaN</td>\n",
       "      <td>NaN</td>\n",
       "      <td>NaN</td>\n",
       "    </tr>\n",
       "  </tbody>\n",
       "</table>\n",
       "<p>471 rows × 10 columns</p>\n",
       "</div>"
      ],
      "text/plain": [
       "      id  restaurant_id             restaurant_location  \\\n",
       "0      0             75   POINT (100.5555603 13.821011)   \n",
       "1      1              4  POINT (100.5338511 13.8411814)   \n",
       "2      2            144  POINT (100.5764408 13.8222855)   \n",
       "3      3            174   POINT (100.566485 13.8239427)   \n",
       "4      4            106  POINT (100.5498324 13.8209576)   \n",
       "..   ...            ...                             ...   \n",
       "466  466            110  POINT (100.5633957 13.8246205)   \n",
       "467  467            107  POINT (100.5645341 13.8270341)   \n",
       "468  468             90  POINT (100.5633957 13.8246205)   \n",
       "469  469            115  POINT (100.5693427 13.8212803)   \n",
       "470  470            104  POINT (100.5633957 13.8246205)   \n",
       "\n",
       "                                 customer_location  created_time  \\\n",
       "0    POINT (100.60880118755551 13.857951986013582)            27   \n",
       "1    POINT (100.58317685517815 13.842826278717466)            96   \n",
       "2    POINT (100.54011830906367 13.822981752980859)           232   \n",
       "3    POINT (100.56108086113446 13.847781620835882)           628   \n",
       "4    POINT (100.60911373181438 13.842537367161736)           750   \n",
       "..                                             ...           ...   \n",
       "466  POINT (100.55504841473123 13.811106413359981)         53359   \n",
       "467  POINT (100.61129796452914 13.855752508088958)         53604   \n",
       "468  POINT (100.57538264516558 13.809767012238924)         53721   \n",
       "469  POINT (100.59909699809485 13.807469931526384)         53890   \n",
       "470  POINT (100.57574072011273 13.852250184298246)         53891   \n",
       "\n",
       "     assigned_time  meal_finished_time  picked_up_time  finished_time  \\\n",
       "0             27.0               976.0           978.0         2558.0   \n",
       "1             96.0              1695.0          4477.0         5986.0   \n",
       "2            232.0              1324.0          6758.0         7942.0   \n",
       "3            628.0              1501.0          1653.0         2327.0   \n",
       "4            750.0              2496.0          3672.0         5109.0   \n",
       "..             ...                 ...             ...            ...   \n",
       "466            NaN                 NaN             NaN            NaN   \n",
       "467            NaN                 NaN             NaN            NaN   \n",
       "468            NaN                 NaN             NaN            NaN   \n",
       "469            NaN                 NaN             NaN            NaN   \n",
       "470            NaN                 NaN             NaN            NaN   \n",
       "\n",
       "     rider_id  \n",
       "0         0.0  \n",
       "1         0.0  \n",
       "2         0.0  \n",
       "3         1.0  \n",
       "4         1.0  \n",
       "..        ...  \n",
       "466       NaN  \n",
       "467       NaN  \n",
       "468       NaN  \n",
       "469       NaN  \n",
       "470       NaN  \n",
       "\n",
       "[471 rows x 10 columns]"
      ]
     },
     "execution_count": 33,
     "metadata": {},
     "output_type": "execute_result"
    }
   ],
   "source": [
    "order_df"
   ]
  },
  {
   "cell_type": "code",
   "execution_count": 34,
   "metadata": {},
   "outputs": [
    {
     "data": {
      "text/plain": [
       "30"
      ]
     },
     "execution_count": 34,
     "metadata": {},
     "output_type": "execute_result"
    }
   ],
   "source": [
    "len(order_df['assigned_time'].dropna())"
   ]
  },
  {
   "cell_type": "code",
   "execution_count": 35,
   "metadata": {},
   "outputs": [
    {
     "data": {
      "text/plain": [
       "31"
      ]
     },
     "execution_count": 35,
     "metadata": {},
     "output_type": "execute_result"
    }
   ],
   "source": [
    "\n",
    "len(order_df['assigned_time'].unique())"
   ]
  },
  {
   "cell_type": "code",
   "execution_count": 37,
   "metadata": {},
   "outputs": [
    {
     "data": {
      "text/plain": [
       "array([  27.,   96.,  232.,  628.,  750.,  890., 1120., 1122., 1326.,\n",
       "       1439., 1508., 1632., 1806., 1878., 1935., 2328., 2559.,   nan,\n",
       "       3049., 3730., 3884., 4283., 5110., 5953., 5987., 6277., 6517.,\n",
       "       6584., 7796., 7943., 8168.])"
      ]
     },
     "execution_count": 37,
     "metadata": {},
     "output_type": "execute_result"
    }
   ],
   "source": [
    "order_df['assigned_time'].unique()"
   ]
  },
  {
   "cell_type": "code",
   "execution_count": null,
   "metadata": {},
   "outputs": [],
   "source": []
  }
 ],
 "metadata": {
  "kernelspec": {
   "display_name": "multi_order_env",
   "language": "python",
   "name": "python3"
  },
  "language_info": {
   "codemirror_mode": {
    "name": "ipython",
    "version": 3
   },
   "file_extension": ".py",
   "mimetype": "text/x-python",
   "name": "python",
   "nbconvert_exporter": "python",
   "pygments_lexer": "ipython3",
   "version": "3.10.9"
  },
  "orig_nbformat": 4,
  "vscode": {
   "interpreter": {
    "hash": "20c170d91e5df5d104321299b03c5307a7c9bdb665e1565411f30bcc266ed4df"
   }
  }
 },
 "nbformat": 4,
 "nbformat_minor": 2
}
